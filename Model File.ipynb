{
 "cells": [
  {
   "cell_type": "markdown",
   "metadata": {},
   "source": [
    "### Importing Libraries"
   ]
  },
  {
   "cell_type": "code",
   "execution_count": 1,
   "metadata": {},
   "outputs": [],
   "source": [
    "import numpy as np\n",
    "import pandas as pd\n",
    "from sklearn.cluster import KMeans\n",
    "from sklearn.ensemble import IsolationForest\n",
    "from pyod.models.hbos import HBOS\n",
    "from sklearn import cluster\n",
    "import sqlite3"
   ]
  },
  {
   "cell_type": "markdown",
   "metadata": {},
   "source": [
    "### Reading Data from Database"
   ]
  },
  {
   "cell_type": "code",
   "execution_count": 2,
   "metadata": {},
   "outputs": [],
   "source": [
    "con = sqlite3.connect('healthcare.db')"
   ]
  },
  {
   "cell_type": "code",
   "execution_count": 3,
   "metadata": {},
   "outputs": [],
   "source": [
    "df = pd.read_sql_query(\"Select * from healthcare\", con)"
   ]
  },
  {
   "cell_type": "code",
   "execution_count": 4,
   "metadata": {},
   "outputs": [],
   "source": [
    "con.close()"
   ]
  },
  {
   "cell_type": "code",
   "execution_count": 5,
   "metadata": {
    "scrolled": true
   },
   "outputs": [
    {
     "data": {
      "text/html": [
       "<div>\n",
       "<style scoped>\n",
       "    .dataframe tbody tr th:only-of-type {\n",
       "        vertical-align: middle;\n",
       "    }\n",
       "\n",
       "    .dataframe tbody tr th {\n",
       "        vertical-align: top;\n",
       "    }\n",
       "\n",
       "    .dataframe thead th {\n",
       "        text-align: right;\n",
       "    }\n",
       "</style>\n",
       "<table border=\"1\" class=\"dataframe\">\n",
       "  <thead>\n",
       "    <tr style=\"text-align: right;\">\n",
       "      <th></th>\n",
       "      <th>Patient_Nbr</th>\n",
       "      <th>Age</th>\n",
       "      <th>Gender</th>\n",
       "      <th>Time_In_Hospital</th>\n",
       "      <th>Num_Medications</th>\n",
       "      <th>Num_Lab_Procedures</th>\n",
       "      <th>State</th>\n",
       "      <th>Hospital_Id</th>\n",
       "      <th>Disease</th>\n",
       "      <th>Smoker</th>\n",
       "      <th>...</th>\n",
       "      <th>Cholestrol</th>\n",
       "      <th>SysBP</th>\n",
       "      <th>DiaBP</th>\n",
       "      <th>BMI</th>\n",
       "      <th>Heart_Rate</th>\n",
       "      <th>Glucose</th>\n",
       "      <th>Diet_Followed</th>\n",
       "      <th>Med_Followed</th>\n",
       "      <th>Steps</th>\n",
       "      <th>Calories_Burnt</th>\n",
       "    </tr>\n",
       "  </thead>\n",
       "  <tbody>\n",
       "    <tr>\n",
       "      <th>0</th>\n",
       "      <td>8222157</td>\n",
       "      <td>1</td>\n",
       "      <td>1.0</td>\n",
       "      <td>1</td>\n",
       "      <td>1</td>\n",
       "      <td>41</td>\n",
       "      <td>California</td>\n",
       "      <td>Ascension</td>\n",
       "      <td>Urinary Tract Infection</td>\n",
       "      <td>0</td>\n",
       "      <td>...</td>\n",
       "      <td>207.979980</td>\n",
       "      <td>132.106646</td>\n",
       "      <td>80.790918</td>\n",
       "      <td>55.433178</td>\n",
       "      <td>94</td>\n",
       "      <td>77.330587</td>\n",
       "      <td>0</td>\n",
       "      <td>0</td>\n",
       "      <td>263</td>\n",
       "      <td>6090</td>\n",
       "    </tr>\n",
       "    <tr>\n",
       "      <th>1</th>\n",
       "      <td>55629189</td>\n",
       "      <td>11</td>\n",
       "      <td>1.0</td>\n",
       "      <td>3</td>\n",
       "      <td>18</td>\n",
       "      <td>59</td>\n",
       "      <td>Texas</td>\n",
       "      <td>HCA Healthcare</td>\n",
       "      <td>Knee Arthroplasty</td>\n",
       "      <td>0</td>\n",
       "      <td>...</td>\n",
       "      <td>220.764562</td>\n",
       "      <td>134.827888</td>\n",
       "      <td>70.502330</td>\n",
       "      <td>39.361805</td>\n",
       "      <td>90</td>\n",
       "      <td>119.277996</td>\n",
       "      <td>0</td>\n",
       "      <td>0</td>\n",
       "      <td>443</td>\n",
       "      <td>8340</td>\n",
       "    </tr>\n",
       "    <tr>\n",
       "      <th>2</th>\n",
       "      <td>86047875</td>\n",
       "      <td>25</td>\n",
       "      <td>1.0</td>\n",
       "      <td>2</td>\n",
       "      <td>13</td>\n",
       "      <td>11</td>\n",
       "      <td>California</td>\n",
       "      <td>Common Spirit Health</td>\n",
       "      <td>COPD (Chronic Obstructive Pulmonary Disease)</td>\n",
       "      <td>0</td>\n",
       "      <td>...</td>\n",
       "      <td>231.726082</td>\n",
       "      <td>121.056315</td>\n",
       "      <td>74.698965</td>\n",
       "      <td>29.317731</td>\n",
       "      <td>51</td>\n",
       "      <td>135.453871</td>\n",
       "      <td>0</td>\n",
       "      <td>0</td>\n",
       "      <td>533</td>\n",
       "      <td>13885</td>\n",
       "    </tr>\n",
       "    <tr>\n",
       "      <th>3</th>\n",
       "      <td>82442376</td>\n",
       "      <td>34</td>\n",
       "      <td>0.0</td>\n",
       "      <td>2</td>\n",
       "      <td>16</td>\n",
       "      <td>44</td>\n",
       "      <td>California</td>\n",
       "      <td>Ascension</td>\n",
       "      <td>Kidney Stones</td>\n",
       "      <td>0</td>\n",
       "      <td>...</td>\n",
       "      <td>249.923551</td>\n",
       "      <td>115.229244</td>\n",
       "      <td>108.613890</td>\n",
       "      <td>43.007455</td>\n",
       "      <td>64</td>\n",
       "      <td>155.511067</td>\n",
       "      <td>0</td>\n",
       "      <td>0</td>\n",
       "      <td>495</td>\n",
       "      <td>7901</td>\n",
       "    </tr>\n",
       "    <tr>\n",
       "      <th>4</th>\n",
       "      <td>42519267</td>\n",
       "      <td>42</td>\n",
       "      <td>0.0</td>\n",
       "      <td>1</td>\n",
       "      <td>8</td>\n",
       "      <td>51</td>\n",
       "      <td>California</td>\n",
       "      <td>Veteran's Health Administration</td>\n",
       "      <td>Coronary Artery Bypass Grafting (CABG)</td>\n",
       "      <td>0</td>\n",
       "      <td>...</td>\n",
       "      <td>193.928251</td>\n",
       "      <td>157.714229</td>\n",
       "      <td>90.923279</td>\n",
       "      <td>53.554976</td>\n",
       "      <td>51</td>\n",
       "      <td>163.077023</td>\n",
       "      <td>1</td>\n",
       "      <td>1</td>\n",
       "      <td>315</td>\n",
       "      <td>7847</td>\n",
       "    </tr>\n",
       "  </tbody>\n",
       "</table>\n",
       "<p>5 rows × 23 columns</p>\n",
       "</div>"
      ],
      "text/plain": [
       "   Patient_Nbr  Age  Gender  Time_In_Hospital  Num_Medications  \\\n",
       "0      8222157    1     1.0                 1                1   \n",
       "1     55629189   11     1.0                 3               18   \n",
       "2     86047875   25     1.0                 2               13   \n",
       "3     82442376   34     0.0                 2               16   \n",
       "4     42519267   42     0.0                 1                8   \n",
       "\n",
       "   Num_Lab_Procedures       State                      Hospital_Id  \\\n",
       "0                  41  California                        Ascension   \n",
       "1                  59       Texas                   HCA Healthcare   \n",
       "2                  11  California             Common Spirit Health   \n",
       "3                  44  California                        Ascension   \n",
       "4                  51  California  Veteran's Health Administration   \n",
       "\n",
       "                                        Disease  Smoker  ...  Cholestrol  \\\n",
       "0                       Urinary Tract Infection       0  ...  207.979980   \n",
       "1                             Knee Arthroplasty       0  ...  220.764562   \n",
       "2  COPD (Chronic Obstructive Pulmonary Disease)       0  ...  231.726082   \n",
       "3                                 Kidney Stones       0  ...  249.923551   \n",
       "4        Coronary Artery Bypass Grafting (CABG)       0  ...  193.928251   \n",
       "\n",
       "        SysBP       DiaBP        BMI  Heart_Rate     Glucose  Diet_Followed  \\\n",
       "0  132.106646   80.790918  55.433178          94   77.330587              0   \n",
       "1  134.827888   70.502330  39.361805          90  119.277996              0   \n",
       "2  121.056315   74.698965  29.317731          51  135.453871              0   \n",
       "3  115.229244  108.613890  43.007455          64  155.511067              0   \n",
       "4  157.714229   90.923279  53.554976          51  163.077023              1   \n",
       "\n",
       "   Med_Followed  Steps  Calories_Burnt  \n",
       "0             0    263            6090  \n",
       "1             0    443            8340  \n",
       "2             0    533           13885  \n",
       "3             0    495            7901  \n",
       "4             1    315            7847  \n",
       "\n",
       "[5 rows x 23 columns]"
      ]
     },
     "execution_count": 5,
     "metadata": {},
     "output_type": "execute_result"
    }
   ],
   "source": [
    "df.head()"
   ]
  },
  {
   "cell_type": "markdown",
   "metadata": {},
   "source": [
    "### Model Building"
   ]
  },
  {
   "cell_type": "code",
   "execution_count": 10,
   "metadata": {},
   "outputs": [],
   "source": [
    "class Model:\n",
    "\n",
    "    # KMeans Clustering\n",
    "    def kmeans(data = df):\n",
    "        kmeans = KMeans(n_clusters=2)\n",
    "\n",
    "        df['Readmission'] = kmeans.fit_predict(df[['Age', 'Gender', 'Smoker', 'Prevalent_Stroke', 'Prevalent_Hyp', 'Diabetes',\n",
    "                                           'Cholestrol', 'SysBP', 'DiaBP', 'BMI', 'Heart_Rate', 'Glucose', 'Diet_Followed',\n",
    "                                           'Med_Followed', 'Calories_Burnt', 'Steps']])\n",
    "\n",
    "        kmeans.cluster_centers_\n",
    "\n",
    "        # Patient requiring readmission\n",
    "        return ('No. of patients to be readmitted using KMeans:', df[df['Readmission'] == 1].shape[0])\n",
    "    \n",
    "    # Isolation Forest\n",
    "    def isolation(data = df):   \n",
    "        clf = IsolationForest(random_state=0)\n",
    "\n",
    "        df['Readmission'] = clf.fit_predict(df[['Age', 'Gender', 'Smoker', 'Prevalent_Stroke', 'Prevalent_Hyp', 'Diabetes',\n",
    "                                           'Cholestrol', 'SysBP', 'DiaBP', 'BMI', 'Heart_Rate', 'Glucose', 'Diet_Followed',\n",
    "                                           'Med_Followed', 'Calories_Burnt', 'Steps']])\n",
    "\n",
    "        # overall_dataset[(df['Diet_Followed'] == 0) & (df['Readmission'] == 1)]\n",
    "        return ('No. of patients to be readmitted using Isolation Forest:', df[df['Readmission'] == 1].shape[0])\n",
    "\n",
    "    # HBOS\n",
    "    def hbos(data = df):\n",
    "        clf = HBOS()\n",
    "\n",
    "        df['Readmission'] = clf.fit_predict(df[['Age', 'Gender', 'Smoker', 'Prevalent_Stroke', 'Prevalent_Hyp', 'Diabetes',\n",
    "                                           'Cholestrol', 'SysBP', 'DiaBP', 'BMI', 'Heart_Rate', 'Glucose', 'Diet_Followed',\n",
    "                                           'Med_Followed', 'Calories_Burnt', 'Steps']])\n",
    "\n",
    "        return ('No. of patients to be readmitted using HBOS:', df[df['Readmission'] == 1].shape[0])\n"
   ]
  },
  {
   "cell_type": "code",
   "execution_count": 11,
   "metadata": {},
   "outputs": [],
   "source": [
    "model = Model()"
   ]
  },
  {
   "cell_type": "code",
   "execution_count": 14,
   "metadata": {},
   "outputs": [
    {
     "name": "stderr",
     "output_type": "stream",
     "text": [
      "C:\\Users\\tutej\\anaconda3\\lib\\site-packages\\sklearn\\utils\\deprecation.py:86: FutureWarning: Function fit_predict is deprecated\n",
      "  warnings.warn(msg, category=FutureWarning)\n"
     ]
    },
    {
     "data": {
      "text/plain": [
       "('No. of patients to be readmitted using HBOS:', 10177)"
      ]
     },
     "execution_count": 14,
     "metadata": {},
     "output_type": "execute_result"
    }
   ],
   "source": [
    "model.hbos()"
   ]
  },
  {
   "cell_type": "code",
   "execution_count": null,
   "metadata": {},
   "outputs": [],
   "source": []
  }
 ],
 "metadata": {
  "kernelspec": {
   "display_name": "Python 3",
   "language": "python",
   "name": "python3"
  },
  "language_info": {
   "codemirror_mode": {
    "name": "ipython",
    "version": 3
   },
   "file_extension": ".py",
   "mimetype": "text/x-python",
   "name": "python",
   "nbconvert_exporter": "python",
   "pygments_lexer": "ipython3",
   "version": "3.8.5"
  }
 },
 "nbformat": 4,
 "nbformat_minor": 4
}
