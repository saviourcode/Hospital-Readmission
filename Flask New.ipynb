{
 "cells": [
  {
   "cell_type": "code",
   "execution_count": 1,
   "metadata": {},
   "outputs": [
    {
     "name": "stderr",
     "output_type": "stream",
     "text": [
      "C:\\Users\\tutej\\anaconda3\\lib\\site-packages\\sklearn\\utils\\deprecation.py:86: FutureWarning: Function fit_predict is deprecated\n",
      "  warnings.warn(msg, category=FutureWarning)\n"
     ]
    }
   ],
   "source": [
    "import json\n",
    "import os\n",
    "from flask import Flask, render_template\n",
    "from flask import render_template_string\n",
    "from flask import Flask, jsonify, request\n",
    "from flask_cors import CORS\n",
    "import pickle\n",
    "from App import Model"
   ]
  },
  {
   "cell_type": "code",
   "execution_count": 5,
   "metadata": {},
   "outputs": [],
   "source": [
    "# Loading the pickle file\n",
    "model_new = pickle.load(open('model.pkl','rb'))"
   ]
  },
  {
   "cell_type": "code",
   "execution_count": 6,
   "metadata": {},
   "outputs": [],
   "source": [
    "app = Flask(__name__)\n",
    "CORS(app)\n",
    "\n",
    "@app.route(\"/kmeans/\", methods=['GET'])\n",
    "def kmeans():\n",
    "    result = model_new.kmeans()\n",
    "    return jsonify(result)\n",
    "\n",
    "@app.route(\"/isolation/\", methods=['GET'])\n",
    "def isolation():\n",
    "    result = model_new.isolation()\n",
    "    return jsonify(result)\n",
    "\n",
    "@app.route(\"/hbos/\", methods=['GET'])\n",
    "def hbos():\n",
    "    result = model_new.hbos()\n",
    "    return jsonify(result)\n",
    "\n",
    "@app.route(\"/\",methods=['GET'])\n",
    "def default():\n",
    "    print('Entering Default')\n",
    "    return render_template(\"index.html\")"
   ]
  },
  {
   "cell_type": "code",
   "execution_count": 7,
   "metadata": {},
   "outputs": [
    {
     "name": "stdout",
     "output_type": "stream",
     "text": [
      " * Serving Flask app \"__main__\" (lazy loading)\n",
      " * Environment: production\n",
      "   WARNING: This is a development server. Do not use it in a production deployment.\n",
      "   Use a production WSGI server instead.\n",
      " * Debug mode: off\n"
     ]
    },
    {
     "name": "stderr",
     "output_type": "stream",
     "text": [
      " * Running on http://127.0.0.1:5000/ (Press CTRL+C to quit)\n",
      "127.0.0.1 - - [18/Jul/2021 02:40:11] \"\u001b[37mGET / HTTP/1.1\u001b[0m\" 200 -\n",
      "127.0.0.1 - - [18/Jul/2021 02:40:11] \"\u001b[37mGET /static/style.css HTTP/1.1\u001b[0m\" 200 -\n",
      "127.0.0.1 - - [18/Jul/2021 02:40:11] \"\u001b[37mGET /static/script.js HTTP/1.1\u001b[0m\" 200 -\n"
     ]
    },
    {
     "name": "stdout",
     "output_type": "stream",
     "text": [
      "Entering Default\n"
     ]
    },
    {
     "name": "stderr",
     "output_type": "stream",
     "text": [
      "127.0.0.1 - - [18/Jul/2021 02:40:11] \"\u001b[33mGET /favicon.ico HTTP/1.1\u001b[0m\" 404 -\n",
      "127.0.0.1 - - [18/Jul/2021 02:40:13] \"\u001b[37mGET /kmeans/ HTTP/1.1\u001b[0m\" 200 -\n",
      "127.0.0.1 - - [18/Jul/2021 02:40:18] \"\u001b[37mGET /isolation/ HTTP/1.1\u001b[0m\" 200 -\n",
      "C:\\Users\\tutej\\anaconda3\\lib\\site-packages\\sklearn\\utils\\deprecation.py:86: FutureWarning: Function fit_predict is deprecated\n",
      "  warnings.warn(msg, category=FutureWarning)\n",
      "127.0.0.1 - - [18/Jul/2021 02:40:19] \"\u001b[37mGET /hbos/ HTTP/1.1\u001b[0m\" 200 -\n"
     ]
    }
   ],
   "source": [
    "if __name__ == \"__main__\":\n",
    "    app.config[\"TEMPLATES_AUTO_RELOAD\"] = True;\n",
    "    app.run(debug=False)"
   ]
  },
  {
   "cell_type": "code",
   "execution_count": null,
   "metadata": {},
   "outputs": [],
   "source": []
  }
 ],
 "metadata": {
  "kernelspec": {
   "display_name": "Python 3",
   "language": "python",
   "name": "python3"
  },
  "language_info": {
   "codemirror_mode": {
    "name": "ipython",
    "version": 3
   },
   "file_extension": ".py",
   "mimetype": "text/x-python",
   "name": "python",
   "nbconvert_exporter": "python",
   "pygments_lexer": "ipython3",
   "version": "3.8.5"
  }
 },
 "nbformat": 4,
 "nbformat_minor": 4
}
