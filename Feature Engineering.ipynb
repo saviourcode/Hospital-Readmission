{
 "cells": [
  {
   "cell_type": "markdown",
   "metadata": {},
   "source": [
    "### Imports"
   ]
  },
  {
   "cell_type": "code",
   "execution_count": 1,
   "metadata": {},
   "outputs": [],
   "source": [
    "import numpy as np\n",
    "import pandas as pd\n",
    "import random\n",
    "from sklearn.cluster import KMeans\n",
    "from sklearn.ensemble import IsolationForest\n",
    "from pyod.models.hbos import HBOS\n",
    "from sklearn import cluster"
   ]
  },
  {
   "cell_type": "code",
   "execution_count": 2,
   "metadata": {},
   "outputs": [],
   "source": [
    "pd.options.mode.chained_assignment = None "
   ]
  },
  {
   "cell_type": "markdown",
   "metadata": {},
   "source": [
    "### Datasets Import"
   ]
  },
  {
   "cell_type": "markdown",
   "metadata": {},
   "source": [
    "Dataset: https://www.kaggle.com/brandao/diabetes?select=diabetic_data.csv\n",
    "\n",
    "The data set represents 10 years (1999-2008) of clinical care at 130 US hospitals and integrated delivery networks. "
   ]
  },
  {
   "cell_type": "code",
   "execution_count": 3,
   "metadata": {},
   "outputs": [],
   "source": [
    "# Reading Datasets\n",
    "df_ecg_diabetic = pd.read_csv('diabetic_data.csv')"
   ]
  },
  {
   "cell_type": "markdown",
   "metadata": {},
   "source": [
    "### Feature Description\n",
    "\n",
    "1. Patient_Nbr: Patient Identification Number\n",
    "2. Age: Patient Age\n",
    "3. Gender: Patient Gender\n",
    "4. Time_In_Hospital: No. of days patient was admitted for\n",
    "5. Num_Medications: No. of medications patient was on\n",
    "6. Num_Lab_Procedures: No. of lab procedures performed on patient\n",
    "7. State: Patient US State\n",
    "8. Hospital_Id: Hospital he was admitted to\n",
    "9. Disease: Patient's Disease\n",
    "10. Smoker: If patient was smoker\n",
    "11. Prevalent_Stroke: whether or not the patient had previously had a stroke\n",
    "12. Prevalent_Hyp: whether or not the patient was hypertensive \n",
    "13. Diabetes: whether or not the patient had diabetes \n",
    "14. Cholestrol: total cholesterol level \n",
    "15. SysBP: systolic blood pressure \n",
    "16. DiaBP: diastolic blood pressure \n",
    "17. BMI: Body Mass Index\n",
    "18. Heart_Rate: heart rate\n",
    "19. Glucose: glucose level \n",
    "20. Diet_Followed: whether or not patient followed his diet chart\n",
    "21. Med_Followed: whether or not patient followed his medicine routine chart\n",
    "22. Steps: Number of steps walked by patient\n",
    "23. Calories_Burnt: Number of calories burnt by patient"
   ]
  },
  {
   "cell_type": "markdown",
   "metadata": {},
   "source": [
    "### Data Engineering"
   ]
  },
  {
   "cell_type": "code",
   "execution_count": 4,
   "metadata": {
    "scrolled": true
   },
   "outputs": [
    {
     "data": {
      "text/html": [
       "<div>\n",
       "<style scoped>\n",
       "    .dataframe tbody tr th:only-of-type {\n",
       "        vertical-align: middle;\n",
       "    }\n",
       "\n",
       "    .dataframe tbody tr th {\n",
       "        vertical-align: top;\n",
       "    }\n",
       "\n",
       "    .dataframe thead th {\n",
       "        text-align: right;\n",
       "    }\n",
       "</style>\n",
       "<table border=\"1\" class=\"dataframe\">\n",
       "  <thead>\n",
       "    <tr style=\"text-align: right;\">\n",
       "      <th></th>\n",
       "      <th>encounter_id</th>\n",
       "      <th>patient_nbr</th>\n",
       "      <th>race</th>\n",
       "      <th>gender</th>\n",
       "      <th>age</th>\n",
       "      <th>weight</th>\n",
       "      <th>admission_type_id</th>\n",
       "      <th>discharge_disposition_id</th>\n",
       "      <th>admission_source_id</th>\n",
       "      <th>time_in_hospital</th>\n",
       "      <th>...</th>\n",
       "      <th>citoglipton</th>\n",
       "      <th>insulin</th>\n",
       "      <th>glyburide-metformin</th>\n",
       "      <th>glipizide-metformin</th>\n",
       "      <th>glimepiride-pioglitazone</th>\n",
       "      <th>metformin-rosiglitazone</th>\n",
       "      <th>metformin-pioglitazone</th>\n",
       "      <th>change</th>\n",
       "      <th>diabetesMed</th>\n",
       "      <th>readmitted</th>\n",
       "    </tr>\n",
       "  </thead>\n",
       "  <tbody>\n",
       "    <tr>\n",
       "      <th>0</th>\n",
       "      <td>2278392</td>\n",
       "      <td>8222157</td>\n",
       "      <td>Caucasian</td>\n",
       "      <td>Female</td>\n",
       "      <td>[0-10)</td>\n",
       "      <td>?</td>\n",
       "      <td>6</td>\n",
       "      <td>25</td>\n",
       "      <td>1</td>\n",
       "      <td>1</td>\n",
       "      <td>...</td>\n",
       "      <td>No</td>\n",
       "      <td>No</td>\n",
       "      <td>No</td>\n",
       "      <td>No</td>\n",
       "      <td>No</td>\n",
       "      <td>No</td>\n",
       "      <td>No</td>\n",
       "      <td>No</td>\n",
       "      <td>No</td>\n",
       "      <td>NO</td>\n",
       "    </tr>\n",
       "    <tr>\n",
       "      <th>1</th>\n",
       "      <td>149190</td>\n",
       "      <td>55629189</td>\n",
       "      <td>Caucasian</td>\n",
       "      <td>Female</td>\n",
       "      <td>[10-20)</td>\n",
       "      <td>?</td>\n",
       "      <td>1</td>\n",
       "      <td>1</td>\n",
       "      <td>7</td>\n",
       "      <td>3</td>\n",
       "      <td>...</td>\n",
       "      <td>No</td>\n",
       "      <td>Up</td>\n",
       "      <td>No</td>\n",
       "      <td>No</td>\n",
       "      <td>No</td>\n",
       "      <td>No</td>\n",
       "      <td>No</td>\n",
       "      <td>Ch</td>\n",
       "      <td>Yes</td>\n",
       "      <td>&gt;30</td>\n",
       "    </tr>\n",
       "    <tr>\n",
       "      <th>2</th>\n",
       "      <td>64410</td>\n",
       "      <td>86047875</td>\n",
       "      <td>AfricanAmerican</td>\n",
       "      <td>Female</td>\n",
       "      <td>[20-30)</td>\n",
       "      <td>?</td>\n",
       "      <td>1</td>\n",
       "      <td>1</td>\n",
       "      <td>7</td>\n",
       "      <td>2</td>\n",
       "      <td>...</td>\n",
       "      <td>No</td>\n",
       "      <td>No</td>\n",
       "      <td>No</td>\n",
       "      <td>No</td>\n",
       "      <td>No</td>\n",
       "      <td>No</td>\n",
       "      <td>No</td>\n",
       "      <td>No</td>\n",
       "      <td>Yes</td>\n",
       "      <td>NO</td>\n",
       "    </tr>\n",
       "    <tr>\n",
       "      <th>3</th>\n",
       "      <td>500364</td>\n",
       "      <td>82442376</td>\n",
       "      <td>Caucasian</td>\n",
       "      <td>Male</td>\n",
       "      <td>[30-40)</td>\n",
       "      <td>?</td>\n",
       "      <td>1</td>\n",
       "      <td>1</td>\n",
       "      <td>7</td>\n",
       "      <td>2</td>\n",
       "      <td>...</td>\n",
       "      <td>No</td>\n",
       "      <td>Up</td>\n",
       "      <td>No</td>\n",
       "      <td>No</td>\n",
       "      <td>No</td>\n",
       "      <td>No</td>\n",
       "      <td>No</td>\n",
       "      <td>Ch</td>\n",
       "      <td>Yes</td>\n",
       "      <td>NO</td>\n",
       "    </tr>\n",
       "    <tr>\n",
       "      <th>4</th>\n",
       "      <td>16680</td>\n",
       "      <td>42519267</td>\n",
       "      <td>Caucasian</td>\n",
       "      <td>Male</td>\n",
       "      <td>[40-50)</td>\n",
       "      <td>?</td>\n",
       "      <td>1</td>\n",
       "      <td>1</td>\n",
       "      <td>7</td>\n",
       "      <td>1</td>\n",
       "      <td>...</td>\n",
       "      <td>No</td>\n",
       "      <td>Steady</td>\n",
       "      <td>No</td>\n",
       "      <td>No</td>\n",
       "      <td>No</td>\n",
       "      <td>No</td>\n",
       "      <td>No</td>\n",
       "      <td>Ch</td>\n",
       "      <td>Yes</td>\n",
       "      <td>NO</td>\n",
       "    </tr>\n",
       "  </tbody>\n",
       "</table>\n",
       "<p>5 rows × 50 columns</p>\n",
       "</div>"
      ],
      "text/plain": [
       "   encounter_id  patient_nbr             race  gender      age weight  \\\n",
       "0       2278392      8222157        Caucasian  Female   [0-10)      ?   \n",
       "1        149190     55629189        Caucasian  Female  [10-20)      ?   \n",
       "2         64410     86047875  AfricanAmerican  Female  [20-30)      ?   \n",
       "3        500364     82442376        Caucasian    Male  [30-40)      ?   \n",
       "4         16680     42519267        Caucasian    Male  [40-50)      ?   \n",
       "\n",
       "   admission_type_id  discharge_disposition_id  admission_source_id  \\\n",
       "0                  6                        25                    1   \n",
       "1                  1                         1                    7   \n",
       "2                  1                         1                    7   \n",
       "3                  1                         1                    7   \n",
       "4                  1                         1                    7   \n",
       "\n",
       "   time_in_hospital  ... citoglipton insulin  glyburide-metformin  \\\n",
       "0                 1  ...          No      No                   No   \n",
       "1                 3  ...          No      Up                   No   \n",
       "2                 2  ...          No      No                   No   \n",
       "3                 2  ...          No      Up                   No   \n",
       "4                 1  ...          No  Steady                   No   \n",
       "\n",
       "   glipizide-metformin  glimepiride-pioglitazone  metformin-rosiglitazone  \\\n",
       "0                   No                        No                       No   \n",
       "1                   No                        No                       No   \n",
       "2                   No                        No                       No   \n",
       "3                   No                        No                       No   \n",
       "4                   No                        No                       No   \n",
       "\n",
       "   metformin-pioglitazone  change diabetesMed readmitted  \n",
       "0                      No      No          No         NO  \n",
       "1                      No      Ch         Yes        >30  \n",
       "2                      No      No         Yes         NO  \n",
       "3                      No      Ch         Yes         NO  \n",
       "4                      No      Ch         Yes         NO  \n",
       "\n",
       "[5 rows x 50 columns]"
      ]
     },
     "execution_count": 4,
     "metadata": {},
     "output_type": "execute_result"
    }
   ],
   "source": [
    "df_ecg_diabetic.head()"
   ]
  },
  {
   "cell_type": "code",
   "execution_count": 5,
   "metadata": {},
   "outputs": [],
   "source": [
    "# Taking partial required data from ecg_diabetic\n",
    "overall_dataset = df_ecg_diabetic[['patient_nbr', 'age', 'gender', 'time_in_hospital', \n",
    "                                   'num_medications', 'num_lab_procedures']]"
   ]
  },
  {
   "cell_type": "code",
   "execution_count": 6,
   "metadata": {
    "scrolled": false
   },
   "outputs": [],
   "source": [
    "# Creating new columns\n",
    "overall_dataset[['State', 'Hospital_Id', 'Disease', 'Smoker', 'Prevalent_Stroke', 'Prevalent_Hyp', 'Diabetes', 'Cholestrol', 'SysBP', 'DiaBP', 'BMI', 'Heart_Rate', 'Glucose', 'Diet_Followed', 'Med_Followed', 'Steps', 'Calories_Burnt']] = None"
   ]
  },
  {
   "cell_type": "code",
   "execution_count": 7,
   "metadata": {},
   "outputs": [],
   "source": [
    "# Adding states in dataframe\n",
    "state_list = ['California', 'Texas', 'Washington', 'Virginia', 'Florida']\n",
    "overall_dataset['State'] = np.random.choice(state_list, df_ecg_diabetic.shape[0], p= [0.23,0.25,0.2,0.12,0.2])\n",
    "\n",
    "# Adding diseases in dataframe\n",
    "disease_list = ['Coronary Artery Bypass Grafting (CABG)', 'Heart Transplant', 'Bypass Surgery', 'COPD (Chronic Obstructive Pulmonary Disease)', 'Lung Cancer', 'Urinary Tract Infection', 'Kidney Stones', 'Melanoma', 'Knee Arthroplasty']\n",
    "overall_dataset['Disease'] = np.random.choice(disease_list, df_ecg_diabetic.shape[0], p=[0.05,0.07,0.1,0.06,0.11,0.2,0.2,0.03,0.18])\n",
    "\n",
    "# Adding hospital id in dataframe\n",
    "hospitals = ['HCA Healthcare', 'Veteran\\'s Health Administration', 'Ascension', 'Common Spirit Health']\n",
    "overall_dataset['Hospital_Id'] = np.random.choice(hospitals, df_ecg_diabetic.shape[0])"
   ]
  },
  {
   "cell_type": "code",
   "execution_count": 8,
   "metadata": {
    "scrolled": true
   },
   "outputs": [],
   "source": [
    "# Changing age to number\n",
    "\n",
    "for i in range(overall_dataset.shape[0]):\n",
    "    if overall_dataset.loc[i, 'age'] == '[0-10)': \n",
    "        overall_dataset.at[i, 'age'] = np.random.randint(1, 10)\n",
    "    elif overall_dataset.loc[i, 'age'] == '[10-20)': \n",
    "        overall_dataset.at[i, 'age'] = np.random.randint(11, 20)\n",
    "    elif overall_dataset.loc[i, 'age'] == '[20-30)': \n",
    "        overall_dataset.at[i, 'age'] = np.random.randint(21, 30)\n",
    "    elif overall_dataset.loc[i, 'age'] == '[30-40)': \n",
    "        overall_dataset.at[i, 'age'] = np.random.randint(31, 40)\n",
    "    elif overall_dataset.loc[i, 'age'] == '[40-50)': \n",
    "        overall_dataset.at[i, 'age'] = np.random.randint(41, 50)\n",
    "    elif overall_dataset.loc[i, 'age'] == '[50-60)': \n",
    "        overall_dataset.at[i, 'age'] = np.random.randint(51, 60)\n",
    "    elif overall_dataset.loc[i, 'age'] == '[60-70)': \n",
    "        overall_dataset.at[i, 'age'] = np.random.randint(61, 70)\n",
    "    elif overall_dataset.loc[i, 'age'] == '[70-80)': \n",
    "        overall_dataset.at[i, 'age'] = np.random.randint(71, 80)\n",
    "    elif overall_dataset.loc[i, 'age'] == '[80-90)': \n",
    "        overall_dataset.at[i, 'age'] = np.random.randint(81, 90)\n",
    "    elif overall_dataset.loc[i, 'age'] == '[90-100)': \n",
    "        overall_dataset.at[i, 'age'] = np.random.randint(91, 100)\n",
    "\n"
   ]
  },
  {
   "cell_type": "code",
   "execution_count": 9,
   "metadata": {},
   "outputs": [],
   "source": [
    "# Adding Smoker tab\n",
    "count = overall_dataset.loc[overall_dataset['age']>15].shape[0]\n",
    "overall_dataset.loc[overall_dataset['age']>15,['Smoker']] = np.random.choice([0,1], count, p=[0.75,0.25]) # 1 is for smoker\n",
    "overall_dataset.loc[overall_dataset['Smoker'].isna(),'Smoker'] = 0"
   ]
  },
  {
   "cell_type": "code",
   "execution_count": 10,
   "metadata": {},
   "outputs": [],
   "source": [
    "# Prevalent Stroke\n",
    "count = overall_dataset[((overall_dataset['Disease'] == 'Coronary Artery Bypass Grafting (CABG)') |   \n",
    "                (overall_dataset['Disease'] == 'Heart Transplant') |\n",
    "                (overall_dataset['Disease'] == 'Bypass Surgery')) & (overall_dataset['age']>10)].shape[0]\n",
    "\n",
    "overall_dataset.loc[((overall_dataset['Disease'] == 'Coronary Artery Bypass Grafting (CABG)') |   \n",
    "                (overall_dataset['Disease'] == 'Heart Transplant') |\n",
    "                (overall_dataset['Disease'] == 'Bypass Surgery')) & (overall_dataset['age']>10),['Prevalent_Stroke']] = np.random.choice([0,1], count, p=[0.35,0.65]) # 1 is for smoker\n",
    "\n",
    "overall_dataset.loc[overall_dataset['Prevalent_Stroke'].isna(),'Prevalent_Stroke'] = 0\n"
   ]
  },
  {
   "cell_type": "code",
   "execution_count": 11,
   "metadata": {},
   "outputs": [],
   "source": [
    "# Prevalent Hypertension\n",
    "count = overall_dataset[overall_dataset['age']>20].shape[0]\n",
    "overall_dataset.loc[overall_dataset['age']>20, 'Prevalent_Hyp'] = np.random.choice([0,1], count, p=[0.75, 0.25])\n",
    "overall_dataset.loc[overall_dataset['Prevalent_Hyp'].isna(),'Prevalent_Hyp'] = 0\n"
   ]
  },
  {
   "cell_type": "code",
   "execution_count": 12,
   "metadata": {},
   "outputs": [],
   "source": [
    "# Diabetes\n",
    "\n",
    "count_15 = overall_dataset[overall_dataset['age']<=15].shape[0]\n",
    "overall_dataset.loc[overall_dataset['age']<=15, 'Diabetes'] = np.random.choice([0,1], count_15, p=[0.98, 0.02])\n",
    "\n",
    "count_30 = overall_dataset[(overall_dataset['age']>15) & (overall_dataset['age']<=30)].shape[0]\n",
    "overall_dataset.loc[(overall_dataset['age']>15) & (overall_dataset['age']<=30), 'Diabetes'] = np.random.choice([0,1], count_30, p=[0.8, 0.2])\n",
    "\n",
    "\n",
    "count_50 = overall_dataset[(overall_dataset['age']>30) & (overall_dataset['age']<=50)].shape[0]\n",
    "overall_dataset.loc[(overall_dataset['age']>30) & (overall_dataset['age']<=50), 'Diabetes'] = np.random.choice([0,1], count_50, p=[0.55, 0.45])\n",
    "\n",
    "count_100 = overall_dataset[overall_dataset['age']>50].shape[0]\n",
    "overall_dataset.loc[overall_dataset['age']>50, 'Diabetes'] = np.random.choice([0,1], count_100, p=[0.25, 0.75])"
   ]
  },
  {
   "cell_type": "code",
   "execution_count": 13,
   "metadata": {},
   "outputs": [],
   "source": [
    "# BMI\n",
    "overall_dataset['BMI'] = np.random.uniform(10, 60, overall_dataset.shape[0])"
   ]
  },
  {
   "cell_type": "code",
   "execution_count": 14,
   "metadata": {},
   "outputs": [],
   "source": [
    "# Cholestrol\n",
    "for i in range(overall_dataset.shape[0]):\n",
    "    if overall_dataset.loc[i, 'BMI'] <= 20:\n",
    "        overall_dataset.loc[i, 'Cholestrol'] = np.random.uniform(low = 150, high = 200)\n",
    "    elif overall_dataset.loc[i, 'BMI'] > 20 and overall_dataset.loc[i, 'BMI'] <= 40:\n",
    "        overall_dataset.loc[i, 'Cholestrol'] = np.random.uniform(low = 160, high = 240)\n",
    "    elif overall_dataset.loc[i, 'BMI'] > 40 and overall_dataset.loc[i, 'BMI'] <= 60:\n",
    "        overall_dataset.loc[i, 'Cholestrol'] = np.random.uniform(low = 170, high = 250)"
   ]
  },
  {
   "cell_type": "code",
   "execution_count": 15,
   "metadata": {},
   "outputs": [],
   "source": [
    "# SysBP/ DiaBP\n",
    "for i in range(overall_dataset.shape[0]):\n",
    "    if overall_dataset.loc[i, 'Prevalent_Hyp'] == 1:\n",
    "        overall_dataset.loc[i, 'SysBP'] = np.random.uniform(low = 95, high = 170)\n",
    "        overall_dataset.loc[i, 'DiaBP'] = np.random.uniform(low = 60, high = 140)\n",
    "    else:\n",
    "        overall_dataset.loc[i, 'SysBP'] = np.random.uniform(low = 110, high = 160)\n",
    "        overall_dataset.loc[i, 'DiaBP'] = np.random.uniform(low = 70, high = 130)"
   ]
  },
  {
   "cell_type": "code",
   "execution_count": 16,
   "metadata": {},
   "outputs": [],
   "source": [
    "# Heart Rate\n",
    "overall_dataset['Heart_Rate'] = np.random.randint(low = 50, high = 100, size = overall_dataset.shape[0])"
   ]
  },
  {
   "cell_type": "code",
   "execution_count": 17,
   "metadata": {
    "scrolled": true
   },
   "outputs": [],
   "source": [
    "# Glucose \n",
    "for i in range(overall_dataset.shape[0]):\n",
    "    if overall_dataset.loc[i, 'Diabetes'] == 0:\n",
    "        overall_dataset.loc[i, 'Glucose'] = np.random.uniform(low = 60, high = 140)\n",
    "    else:\n",
    "        overall_dataset.loc[i, 'Glucose'] = np.random.uniform(low = 110, high = 250)\n"
   ]
  },
  {
   "cell_type": "code",
   "execution_count": 18,
   "metadata": {
    "scrolled": true
   },
   "outputs": [],
   "source": [
    "# Gender String To Numeric\n",
    "overall_dataset['gender'] = np.select([overall_dataset['gender']=='Female', overall_dataset['gender']=='Male'],\n",
    "                                     [1,0], default = np.NaN)"
   ]
  },
  {
   "cell_type": "code",
   "execution_count": 19,
   "metadata": {},
   "outputs": [],
   "source": [
    "# Steps\n",
    "overall_dataset['Steps'] = np.random.randint(low = 1500, high = 15000, size = overall_dataset.shape[0])"
   ]
  },
  {
   "cell_type": "code",
   "execution_count": 20,
   "metadata": {},
   "outputs": [],
   "source": [
    "# Calories\n",
    "for i in range(overall_dataset.shape[0]):\n",
    "    if overall_dataset.loc[i, 'Steps'] <= 5000:\n",
    "        overall_dataset.loc[i, 'Calories_Burnt'] = np.random.randint(low = 65, high = 270)\n",
    "    elif overall_dataset.loc[i, 'Steps'] > 5000 and overall_dataset.loc[i, 'Steps'] <= 10000:\n",
    "        overall_dataset.loc[i, 'Calories_Burnt'] = np.random.randint(low = 200, high = 500)\n",
    "    else:\n",
    "        overall_dataset.loc[i, 'Calories_Burnt'] = np.random.randint(low = 400, high = 1000)"
   ]
  },
  {
   "cell_type": "code",
   "execution_count": 21,
   "metadata": {},
   "outputs": [],
   "source": [
    "# Diet_Followed\n",
    "overall_dataset['Diet_Followed'] = np.random.choice([0,1], overall_dataset.shape[0], p = [0.65, 0.35])"
   ]
  },
  {
   "cell_type": "code",
   "execution_count": 22,
   "metadata": {},
   "outputs": [],
   "source": [
    "# Med_Followed\n",
    "overall_dataset['Med_Followed'] = np.random.choice([0,1], overall_dataset.shape[0], p = [0.7, 0.3])"
   ]
  },
  {
   "cell_type": "code",
   "execution_count": 23,
   "metadata": {},
   "outputs": [
    {
     "data": {
      "text/html": [
       "<div>\n",
       "<style scoped>\n",
       "    .dataframe tbody tr th:only-of-type {\n",
       "        vertical-align: middle;\n",
       "    }\n",
       "\n",
       "    .dataframe tbody tr th {\n",
       "        vertical-align: top;\n",
       "    }\n",
       "\n",
       "    .dataframe thead th {\n",
       "        text-align: right;\n",
       "    }\n",
       "</style>\n",
       "<table border=\"1\" class=\"dataframe\">\n",
       "  <thead>\n",
       "    <tr style=\"text-align: right;\">\n",
       "      <th></th>\n",
       "      <th>patient_nbr</th>\n",
       "      <th>age</th>\n",
       "      <th>gender</th>\n",
       "      <th>time_in_hospital</th>\n",
       "      <th>num_medications</th>\n",
       "      <th>num_lab_procedures</th>\n",
       "      <th>State</th>\n",
       "      <th>Hospital_Id</th>\n",
       "      <th>Disease</th>\n",
       "      <th>Smoker</th>\n",
       "      <th>...</th>\n",
       "      <th>Cholestrol</th>\n",
       "      <th>SysBP</th>\n",
       "      <th>DiaBP</th>\n",
       "      <th>BMI</th>\n",
       "      <th>Heart_Rate</th>\n",
       "      <th>Glucose</th>\n",
       "      <th>Diet_Followed</th>\n",
       "      <th>Med_Followed</th>\n",
       "      <th>Steps</th>\n",
       "      <th>Calories_Burnt</th>\n",
       "    </tr>\n",
       "  </thead>\n",
       "  <tbody>\n",
       "    <tr>\n",
       "      <th>0</th>\n",
       "      <td>8222157</td>\n",
       "      <td>1</td>\n",
       "      <td>1.0</td>\n",
       "      <td>1</td>\n",
       "      <td>1</td>\n",
       "      <td>41</td>\n",
       "      <td>California</td>\n",
       "      <td>Ascension</td>\n",
       "      <td>Urinary Tract Infection</td>\n",
       "      <td>0</td>\n",
       "      <td>...</td>\n",
       "      <td>207.98</td>\n",
       "      <td>132.107</td>\n",
       "      <td>80.7909</td>\n",
       "      <td>55.433178</td>\n",
       "      <td>94</td>\n",
       "      <td>77.3306</td>\n",
       "      <td>0</td>\n",
       "      <td>0</td>\n",
       "      <td>6090</td>\n",
       "      <td>263</td>\n",
       "    </tr>\n",
       "    <tr>\n",
       "      <th>1</th>\n",
       "      <td>55629189</td>\n",
       "      <td>11</td>\n",
       "      <td>1.0</td>\n",
       "      <td>3</td>\n",
       "      <td>18</td>\n",
       "      <td>59</td>\n",
       "      <td>Texas</td>\n",
       "      <td>HCA Healthcare</td>\n",
       "      <td>Knee Arthroplasty</td>\n",
       "      <td>0</td>\n",
       "      <td>...</td>\n",
       "      <td>220.765</td>\n",
       "      <td>134.828</td>\n",
       "      <td>70.5023</td>\n",
       "      <td>39.361805</td>\n",
       "      <td>90</td>\n",
       "      <td>119.278</td>\n",
       "      <td>0</td>\n",
       "      <td>0</td>\n",
       "      <td>8340</td>\n",
       "      <td>443</td>\n",
       "    </tr>\n",
       "    <tr>\n",
       "      <th>2</th>\n",
       "      <td>86047875</td>\n",
       "      <td>25</td>\n",
       "      <td>1.0</td>\n",
       "      <td>2</td>\n",
       "      <td>13</td>\n",
       "      <td>11</td>\n",
       "      <td>California</td>\n",
       "      <td>Common Spirit Health</td>\n",
       "      <td>COPD (Chronic Obstructive Pulmonary Disease)</td>\n",
       "      <td>0</td>\n",
       "      <td>...</td>\n",
       "      <td>231.726</td>\n",
       "      <td>121.056</td>\n",
       "      <td>74.699</td>\n",
       "      <td>29.317731</td>\n",
       "      <td>51</td>\n",
       "      <td>135.454</td>\n",
       "      <td>0</td>\n",
       "      <td>0</td>\n",
       "      <td>13885</td>\n",
       "      <td>533</td>\n",
       "    </tr>\n",
       "    <tr>\n",
       "      <th>3</th>\n",
       "      <td>82442376</td>\n",
       "      <td>34</td>\n",
       "      <td>0.0</td>\n",
       "      <td>2</td>\n",
       "      <td>16</td>\n",
       "      <td>44</td>\n",
       "      <td>California</td>\n",
       "      <td>Ascension</td>\n",
       "      <td>Kidney Stones</td>\n",
       "      <td>0</td>\n",
       "      <td>...</td>\n",
       "      <td>249.924</td>\n",
       "      <td>115.229</td>\n",
       "      <td>108.614</td>\n",
       "      <td>43.007455</td>\n",
       "      <td>64</td>\n",
       "      <td>155.511</td>\n",
       "      <td>0</td>\n",
       "      <td>0</td>\n",
       "      <td>7901</td>\n",
       "      <td>495</td>\n",
       "    </tr>\n",
       "    <tr>\n",
       "      <th>4</th>\n",
       "      <td>42519267</td>\n",
       "      <td>42</td>\n",
       "      <td>0.0</td>\n",
       "      <td>1</td>\n",
       "      <td>8</td>\n",
       "      <td>51</td>\n",
       "      <td>California</td>\n",
       "      <td>Veteran's Health Administration</td>\n",
       "      <td>Coronary Artery Bypass Grafting (CABG)</td>\n",
       "      <td>0</td>\n",
       "      <td>...</td>\n",
       "      <td>193.928</td>\n",
       "      <td>157.714</td>\n",
       "      <td>90.9233</td>\n",
       "      <td>53.554976</td>\n",
       "      <td>51</td>\n",
       "      <td>163.077</td>\n",
       "      <td>1</td>\n",
       "      <td>1</td>\n",
       "      <td>7847</td>\n",
       "      <td>315</td>\n",
       "    </tr>\n",
       "  </tbody>\n",
       "</table>\n",
       "<p>5 rows × 23 columns</p>\n",
       "</div>"
      ],
      "text/plain": [
       "   patient_nbr age  gender  time_in_hospital  num_medications  \\\n",
       "0      8222157   1     1.0                 1                1   \n",
       "1     55629189  11     1.0                 3               18   \n",
       "2     86047875  25     1.0                 2               13   \n",
       "3     82442376  34     0.0                 2               16   \n",
       "4     42519267  42     0.0                 1                8   \n",
       "\n",
       "   num_lab_procedures       State                      Hospital_Id  \\\n",
       "0                  41  California                        Ascension   \n",
       "1                  59       Texas                   HCA Healthcare   \n",
       "2                  11  California             Common Spirit Health   \n",
       "3                  44  California                        Ascension   \n",
       "4                  51  California  Veteran's Health Administration   \n",
       "\n",
       "                                        Disease Smoker  ... Cholestrol  \\\n",
       "0                       Urinary Tract Infection      0  ...     207.98   \n",
       "1                             Knee Arthroplasty      0  ...    220.765   \n",
       "2  COPD (Chronic Obstructive Pulmonary Disease)      0  ...    231.726   \n",
       "3                                 Kidney Stones      0  ...    249.924   \n",
       "4        Coronary Artery Bypass Grafting (CABG)      0  ...    193.928   \n",
       "\n",
       "     SysBP    DiaBP        BMI Heart_Rate  Glucose  Diet_Followed  \\\n",
       "0  132.107  80.7909  55.433178         94  77.3306              0   \n",
       "1  134.828  70.5023  39.361805         90  119.278              0   \n",
       "2  121.056   74.699  29.317731         51  135.454              0   \n",
       "3  115.229  108.614  43.007455         64  155.511              0   \n",
       "4  157.714  90.9233  53.554976         51  163.077              1   \n",
       "\n",
       "   Med_Followed  Steps  Calories_Burnt  \n",
       "0             0   6090             263  \n",
       "1             0   8340             443  \n",
       "2             0  13885             533  \n",
       "3             0   7901             495  \n",
       "4             1   7847             315  \n",
       "\n",
       "[5 rows x 23 columns]"
      ]
     },
     "execution_count": 23,
     "metadata": {},
     "output_type": "execute_result"
    }
   ],
   "source": [
    "overall_dataset.head()"
   ]
  },
  {
   "cell_type": "code",
   "execution_count": 24,
   "metadata": {},
   "outputs": [],
   "source": [
    "# Renaming and Arranging Column \n",
    "overall_dataset.columns = ['Patient_Nbr', 'Age', 'Gender', 'Time_In_Hospital', 'Num_Medications',\n",
    "                                   'Num_Lab_Procedures', 'State', 'Hospital_Id',\n",
    "                                   'Disease', 'Smoker', 'Prevalent_Stroke', 'Prevalent_Hyp', 'Diabetes',\n",
    "                                   'Cholestrol', 'SysBP', 'DiaBP', 'BMI', 'Heart_Rate', 'Glucose', 'Diet_Followed',\n",
    "                                   'Med_Followed', 'Calories_Burnt', 'Steps']\n",
    "\n",
    "overall_dataset = overall_dataset[['Patient_Nbr', 'Age', 'Gender', 'Time_In_Hospital', 'Num_Medications',\n",
    "                                   'Num_Lab_Procedures', 'State', 'Hospital_Id',\n",
    "                                   'Disease', 'Smoker', 'Prevalent_Stroke', 'Prevalent_Hyp', 'Diabetes',\n",
    "                                   'Cholestrol', 'SysBP', 'DiaBP', 'BMI', 'Heart_Rate', 'Glucose', 'Diet_Followed',\n",
    "                                   'Med_Followed', 'Steps', 'Calories_Burnt']]"
   ]
  },
  {
   "cell_type": "code",
   "execution_count": 25,
   "metadata": {},
   "outputs": [
    {
     "data": {
      "text/plain": [
       "Patient_Nbr           0\n",
       "Age                   0\n",
       "Gender                0\n",
       "Time_In_Hospital      0\n",
       "Num_Medications       0\n",
       "Num_Lab_Procedures    0\n",
       "State                 0\n",
       "Hospital_Id           0\n",
       "Disease               0\n",
       "Smoker                0\n",
       "Prevalent_Stroke      0\n",
       "Prevalent_Hyp         0\n",
       "Diabetes              0\n",
       "Cholestrol            0\n",
       "SysBP                 0\n",
       "DiaBP                 0\n",
       "BMI                   0\n",
       "Heart_Rate            0\n",
       "Glucose               0\n",
       "Diet_Followed         0\n",
       "Med_Followed          0\n",
       "Steps                 0\n",
       "Calories_Burnt        0\n",
       "dtype: int64"
      ]
     },
     "execution_count": 25,
     "metadata": {},
     "output_type": "execute_result"
    }
   ],
   "source": [
    "# Dropping Null Value\n",
    "overall_dataset.dropna(inplace=True) # 3 Null values \n",
    "overall_dataset.isnull().sum()"
   ]
  },
  {
   "cell_type": "code",
   "execution_count": null,
   "metadata": {},
   "outputs": [],
   "source": []
  },
  {
   "cell_type": "code",
   "execution_count": 27,
   "metadata": {},
   "outputs": [],
   "source": [
    "import sqlite3"
   ]
  },
  {
   "cell_type": "code",
   "execution_count": 28,
   "metadata": {},
   "outputs": [],
   "source": [
    "con = sqlite3.connect('healthcare.db')"
   ]
  },
  {
   "cell_type": "code",
   "execution_count": 29,
   "metadata": {},
   "outputs": [
    {
     "data": {
      "text/plain": [
       "<sqlite3.Cursor at 0x1d75f454ab0>"
      ]
     },
     "execution_count": 29,
     "metadata": {},
     "output_type": "execute_result"
    }
   ],
   "source": [
    "cur = con.cursor()\n",
    "\n",
    "# Create Table\n",
    "cur.execute('''CREATE TABLE HEALTHCARE\n",
    "                (Patient_Nbr, Age, Gender, Time_In_Hospital, Num_Medications,\n",
    "       Num_Lab_Procedures, State, Hospital_Id, Disease, Smoker,\n",
    "       Prevalent_Stroke, Prevalent_Hyp, Diabetes, Cholestrol, SysBP,\n",
    "       DiaBP, BMI, Heart_Rate, Glucose, Diet_Followed,\n",
    "       Med_Followed, Steps, Calories_Burnt)''')"
   ]
  },
  {
   "cell_type": "code",
   "execution_count": 30,
   "metadata": {},
   "outputs": [],
   "source": [
    "# Inserting into database\n",
    "overall_dataset.to_sql('HEALTHCARE', con, if_exists='append', index = False)"
   ]
  },
  {
   "cell_type": "code",
   "execution_count": 31,
   "metadata": {},
   "outputs": [
    {
     "data": {
      "text/plain": [
       "<sqlite3.Cursor at 0x1d75f454ab0>"
      ]
     },
     "execution_count": 31,
     "metadata": {},
     "output_type": "execute_result"
    }
   ],
   "source": [
    "cur.execute('''Select * from healthcare limit 10''')"
   ]
  },
  {
   "cell_type": "code",
   "execution_count": 32,
   "metadata": {},
   "outputs": [
    {
     "name": "stdout",
     "output_type": "stream",
     "text": [
      "[(8222157, 1, 1.0, 1, 1, 41, 'California', 'Ascension', 'Urinary Tract Infection', 0, 0, 0, 0, 207.9799804349803, 132.10664553540605, 80.79091756921666, 55.43317843176812, 94, 77.33058675271391, 0, 0, 263, 6090), (55629189, 11, 1.0, 3, 18, 59, 'Texas', 'HCA Healthcare', 'Knee Arthroplasty', 0, 0, 0, 0, 220.76456159816374, 134.8278882401686, 70.5023301372405, 39.361805492029745, 90, 119.27799600050051, 0, 0, 443, 8340), (86047875, 25, 1.0, 2, 13, 11, 'California', 'Common Spirit Health', 'COPD (Chronic Obstructive Pulmonary Disease)', 0, 0, 0, 0, 231.7260821097948, 121.05631489207539, 74.69896461520395, 29.317730825999046, 51, 135.45387139893984, 0, 0, 533, 13885), (82442376, 34, 0.0, 2, 16, 44, 'California', 'Ascension', 'Kidney Stones', 0, 0, 0, 1, 249.92355096012167, 115.22924444765192, 108.61389038739271, 43.007455353532286, 64, 155.51106691678817, 0, 0, 495, 7901), (42519267, 42, 0.0, 1, 8, 51, 'California', \"Veteran's Health Administration\", 'Coronary Artery Bypass Grafting (CABG)', 0, 1, 0, 1, 193.92825127996608, 157.7142292765646, 90.92327877915736, 53.55497580184337, 51, 163.07702270981036, 1, 1, 315, 7847), (82637451, 58, 0.0, 3, 16, 31, 'California', \"Veteran's Health Administration\", 'Heart Transplant', 1, 0, 0, 1, 178.81138590941163, 112.82958203503522, 113.68335310781913, 22.76258786617201, 71, 242.6114698069393, 0, 0, 795, 11542), (84259809, 66, 0.0, 4, 21, 70, 'California', 'Ascension', 'Kidney Stones', 0, 0, 1, 1, 214.20006888135595, 130.61195978005824, 73.3229677558804, 30.70639423484044, 50, 236.76837088184772, 0, 0, 720, 11660), (114882984, 77, 0.0, 5, 12, 73, 'California', \"Veteran's Health Administration\", 'Knee Arthroplasty', 1, 0, 0, 1, 177.90283771809692, 117.34209551819136, 124.06291793407581, 14.077992364892253, 72, 129.6547664860175, 0, 0, 125, 3306), (48330783, 88, 1.0, 13, 28, 68, 'Texas', 'Common Spirit Health', 'Urinary Tract Infection', 0, 0, 0, 1, 192.12552815578536, 147.44311616599802, 108.78732815041515, 19.700517249423875, 63, 224.5422019890755, 0, 1, 894, 10376), (63555939, 94, 1.0, 12, 18, 33, 'Florida', 'Ascension', 'Kidney Stones', 0, 0, 1, 1, 206.96964452756555, 126.34691749764502, 101.1323132236129, 57.18362528132318, 54, 181.07914560231427, 0, 0, 175, 3986)]\n"
     ]
    }
   ],
   "source": [
    "print(cur.fetchall())"
   ]
  },
  {
   "cell_type": "code",
   "execution_count": 33,
   "metadata": {},
   "outputs": [],
   "source": [
    "con.commit()"
   ]
  },
  {
   "cell_type": "code",
   "execution_count": 34,
   "metadata": {},
   "outputs": [],
   "source": [
    "con.close()"
   ]
  }
 ],
 "metadata": {
  "kernelspec": {
   "display_name": "Python 3",
   "language": "python",
   "name": "python3"
  },
  "language_info": {
   "codemirror_mode": {
    "name": "ipython",
    "version": 3
   },
   "file_extension": ".py",
   "mimetype": "text/x-python",
   "name": "python",
   "nbconvert_exporter": "python",
   "pygments_lexer": "ipython3",
   "version": "3.8.5"
  }
 },
 "nbformat": 4,
 "nbformat_minor": 4
}
